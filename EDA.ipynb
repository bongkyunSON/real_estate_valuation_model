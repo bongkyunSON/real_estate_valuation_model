{
 "cells": [
  {
   "cell_type": "code",
   "execution_count": null,
   "id": "1c501a94",
   "metadata": {},
   "outputs": [],
   "source": [
    "import os\n",
    "from PublicDataReader import TransactionPrice\n",
    "service_key = os.getenv(\"PUBLIC_DATA_HUB\")\n",
    "api = TransactionPrice(service_key)\n",
    "\n",
    "df = api.get_data(\n",
    "    property_type=\"아파트\",\n",
    "    trade_type=\"매매\",\n",
    "    sigungu_code=\"11650\",\n",
    "    start_year_month=\"202401\",\n",
    "    end_year_month=\"202412\",\n",
    ")\n",
    "\n",
    "# df.to_csv(\"아파트_매매_202501_202506.csv\", index=False)\n",
    "df"
   ]
  },
  {
   "cell_type": "code",
   "execution_count": 29,
   "id": "4e01325a",
   "metadata": {},
   "outputs": [
    {
     "name": "stdout",
     "output_type": "stream",
     "text": [
      "출처: 행정기관(행정동) 및 관할구역(법정동) 변경내역(2024.8.1. 시행)\n"
     ]
    },
    {
     "data": {
      "text/html": [
       "<div>\n",
       "<style scoped>\n",
       "    .dataframe tbody tr th:only-of-type {\n",
       "        vertical-align: middle;\n",
       "    }\n",
       "\n",
       "    .dataframe tbody tr th {\n",
       "        vertical-align: top;\n",
       "    }\n",
       "\n",
       "    .dataframe thead th {\n",
       "        text-align: right;\n",
       "    }\n",
       "</style>\n",
       "<table border=\"1\" class=\"dataframe\">\n",
       "  <thead>\n",
       "    <tr style=\"text-align: right;\">\n",
       "      <th></th>\n",
       "      <th>시도코드</th>\n",
       "      <th>시도명</th>\n",
       "      <th>시군구코드</th>\n",
       "      <th>시군구명</th>\n",
       "      <th>법정동코드</th>\n",
       "      <th>읍면동명</th>\n",
       "      <th>동리명</th>\n",
       "      <th>생성일자</th>\n",
       "      <th>말소일자</th>\n",
       "    </tr>\n",
       "  </thead>\n",
       "  <tbody>\n",
       "    <tr>\n",
       "      <th>1003</th>\n",
       "      <td>11</td>\n",
       "      <td>서울특별시</td>\n",
       "      <td>11680</td>\n",
       "      <td>강남구</td>\n",
       "      <td>1168000000</td>\n",
       "      <td></td>\n",
       "      <td></td>\n",
       "      <td>19880423</td>\n",
       "      <td></td>\n",
       "    </tr>\n",
       "  </tbody>\n",
       "</table>\n",
       "</div>"
      ],
      "text/plain": [
       "     시도코드    시도명  시군구코드 시군구명       법정동코드 읍면동명 동리명      생성일자 말소일자\n",
       "1003   11  서울특별시  11680  강남구  1168000000           19880423     "
      ]
     },
     "execution_count": 29,
     "metadata": {},
     "output_type": "execute_result"
    }
   ],
   "source": [
    "import PublicDataReader as pdr\n",
    "sigungu_name = \"강남구\"\n",
    "code = pdr.code_bdong()\n",
    "code.loc[(code['시군구명'].str.contains(sigungu_name)) &\n",
    "         (code['읍면동명']=='')]"
   ]
  },
  {
   "cell_type": "code",
   "execution_count": 2,
   "id": "06b582c8",
   "metadata": {},
   "outputs": [],
   "source": [
    "import os\n",
    "from PublicDataReader import Kosis\n",
    "\n",
    "\n",
    "# KOSIS 공유서비스 Open API 사용자 인증키\n",
    "service_key = os.getenv(\"KOSIS\")\n",
    "\n",
    "# 인스턴스 생성하기\n",
    "api = Kosis(service_key)"
   ]
  },
  {
   "cell_type": "code",
   "execution_count": 10,
   "id": "25f8d877",
   "metadata": {},
   "outputs": [
    {
     "data": {
      "text/html": [
       "<div>\n",
       "<style scoped>\n",
       "    .dataframe tbody tr th:only-of-type {\n",
       "        vertical-align: middle;\n",
       "    }\n",
       "\n",
       "    .dataframe tbody tr th {\n",
       "        vertical-align: top;\n",
       "    }\n",
       "\n",
       "    .dataframe thead th {\n",
       "        text-align: right;\n",
       "    }\n",
       "</style>\n",
       "<table border=\"1\" class=\"dataframe\">\n",
       "  <thead>\n",
       "    <tr style=\"text-align: right;\">\n",
       "      <th></th>\n",
       "      <th>기관ID</th>\n",
       "      <th>기관명</th>\n",
       "      <th>통계표ID</th>\n",
       "      <th>통계표명</th>\n",
       "      <th>조사ID</th>\n",
       "      <th>조사명</th>\n",
       "      <th>KOSIS목록구분</th>\n",
       "      <th>KOSIS통계표위치</th>\n",
       "      <th>통계표위치</th>\n",
       "      <th>통계표주요내용</th>\n",
       "      <th>수록기간시작일</th>\n",
       "      <th>수록기간종료일</th>\n",
       "      <th>통계표주석</th>\n",
       "      <th>추천통계표여부</th>\n",
       "      <th>KOSIS목록URL</th>\n",
       "      <th>KOSIS통계표URL</th>\n",
       "      <th>검색결과건수</th>\n",
       "      <th>검색어명</th>\n",
       "    </tr>\n",
       "  </thead>\n",
       "  <tbody>\n",
       "    <tr>\n",
       "      <th>0</th>\n",
       "      <td>408</td>\n",
       "      <td>한국부동산원</td>\n",
       "      <td>DT_KAB_11672_S25</td>\n",
       "      <td>아파트 전세 실거래 평균가격</td>\n",
       "      <td>2009045</td>\n",
       "      <td>공동주택실거래가격지수</td>\n",
       "      <td>MT_ZTITLE</td>\n",
       "      <td>주거 &gt; 공동주택실거래가격지수</td>\n",
       "      <td>I1 &gt; I1_1</td>\n",
       "      <td>행정구역별 가격 광역시 부산 제주 광주 충남 전북 서울 서북권 도 충북 전남 경남 ...</td>\n",
       "      <td>2014</td>\n",
       "      <td>2025</td>\n",
       "      <td>*공동주택 실거래가격지수 중 전세 실거래가격지수는 확정일자를 기초로 신규계약 및 재...</td>\n",
       "      <td>N</td>\n",
       "      <td>https://kosis.kr/statisticsList/statisticsList...</td>\n",
       "      <td>http://kosis.kr/statHtml/statHtml.do?orgId=408...</td>\n",
       "      <td>372</td>\n",
       "      <td>아파트거래통계</td>\n",
       "    </tr>\n",
       "  </tbody>\n",
       "</table>\n",
       "</div>"
      ],
      "text/plain": [
       "  기관ID     기관명             통계표ID             통계표명     조사ID          조사명  \\\n",
       "0  408  한국부동산원  DT_KAB_11672_S25  아파트 전세 실거래 평균가격  2009045  공동주택실거래가격지수   \n",
       "\n",
       "   KOSIS목록구분        KOSIS통계표위치      통계표위치  \\\n",
       "0  MT_ZTITLE  주거 > 공동주택실거래가격지수  I1 > I1_1   \n",
       "\n",
       "                                             통계표주요내용 수록기간시작일 수록기간종료일  \\\n",
       "0  행정구역별 가격 광역시 부산 제주 광주 충남 전북 서울 서북권 도 충북 전남 경남 ...    2014    2025   \n",
       "\n",
       "                                               통계표주석 추천통계표여부  \\\n",
       "0  *공동주택 실거래가격지수 중 전세 실거래가격지수는 확정일자를 기초로 신규계약 및 재...       N   \n",
       "\n",
       "                                          KOSIS목록URL  \\\n",
       "0  https://kosis.kr/statisticsList/statisticsList...   \n",
       "\n",
       "                                         KOSIS통계표URL 검색결과건수     검색어명  \n",
       "0  http://kosis.kr/statHtml/statHtml.do?orgId=408...    372  아파트거래통계  "
      ]
     },
     "execution_count": 10,
     "metadata": {},
     "output_type": "execute_result"
    }
   ],
   "source": [
    "df1 = api.get_data(\n",
    "    \"KOSIS통합검색\",\n",
    "    searchNm=\"아파트거래통계\",\n",
    "    )\n",
    "df1.head(1)"
   ]
  },
  {
   "cell_type": "code",
   "execution_count": 13,
   "id": "6f48608a",
   "metadata": {},
   "outputs": [],
   "source": [
    "df2 = api.get_data(\n",
    "    \"통계표설명\",\n",
    "    \"분류항목\",\n",
    "    orgId = \"408\",\n",
    "    tblId = \"DT_KAB_11672_S25\",\n",
    "    metaItm = \"ALL\",\n",
    "    )\n",
    "df2.to_csv(\"아파트거래통계.csv\")"
   ]
  }
 ],
 "metadata": {
  "kernelspec": {
   "display_name": ".venv",
   "language": "python",
   "name": "python3"
  },
  "language_info": {
   "codemirror_mode": {
    "name": "ipython",
    "version": 3
   },
   "file_extension": ".py",
   "mimetype": "text/x-python",
   "name": "python",
   "nbconvert_exporter": "python",
   "pygments_lexer": "ipython3",
   "version": "3.12.10"
  }
 },
 "nbformat": 4,
 "nbformat_minor": 5
}
