{
 "cells": [
  {
   "cell_type": "markdown",
   "id": "4f1c48c7",
   "metadata": {},
   "source": [
    "## 서비스 목록\n",
    "\n",
    "* [청약홈 분양정보 조회 서비스](#청약홈-분양정보-조회-서비스)\n",
    "* [청약홈 청약접수 경쟁률 조회 서비스](#청약홈-청약접수-경쟁률-조회-서비스)\n",
    "* [청약홈 청약 신청·당첨자 정보 조회 서비스](#청약홈-청약-신청당첨자-정보-조회-서비스)\n",
    "* [공동주택 단지 식별정보 조회 서비스](#공동주택-단지-식별정보-조회-서비스)\n",
    "* [공동주택 실거래가격지수 통계 조회 서비스](#공동주택-실거래가격지수-통계-조회-서비스)\n",
    "* [전국주택가격동향조사 통계 조회 서비스](#전국주택가격동향조사-통계-조회-서비스)\n",
    "* [주간아파트동향 조회 서비스](#주간아파트동향-조회-서비스)\n",
    "* [오피스텔 가격동향조사 통계 조회 서비스](#오피스텔-가격동향조사-통계-조회-서비스)\n",
    "* [상업용부동산 임대동향 조사 통계 조회 서비스](#상업용부동산-임대동향-조사-통계-조회-서비스)\n",
    "* [월세가격동향조사 통계 조회 서비스](#월세가격동향조사-통계-조회-서비스)\n",
    "* [부동산 거래 현황 통계 조회 서비스](#부동산-거래-현황-통계-조회-서비스)\n",
    "* [전국 지가변동률 조사 통계 조회 서비스](#전국-지가변동률-조사-통계-조회-서비스)\n",
    "* [매입자 연령대별 부동산거래 조회 서비스](#매입자-연령대별-부동산거래-조회-서비스)\n",
    "* [녹색건축 인증현황 조회 서비스](#녹색건축-인증현황-조회-서비스)\n"
   ]
  },
  {
   "cell_type": "code",
   "execution_count": 1,
   "id": "0bffac23",
   "metadata": {},
   "outputs": [],
   "source": [
    "import os\n",
    "# 한국부동산원 부동산 종합 정보 조회 클래스 임포트하기\n",
    "from PublicDataReader import Reb\n",
    "\n",
    "# 공공 데이터 포털 오픈 API 서비스 인증키 입력하기\n",
    "service_key = os.getenv(\"PUBLIC_DATA_HUB\")\n",
    "\n",
    "# 데이터 조회 API 인스턴스 정의하기\n",
    "api = Reb(service_key)"
   ]
  },
  {
   "cell_type": "markdown",
   "id": "710dfefc",
   "metadata": {},
   "source": [
    "### 청약홈 분양정보 조회 서비스"
   ]
  },
  {
   "cell_type": "code",
   "execution_count": null,
   "id": "aaa147c8",
   "metadata": {},
   "outputs": [
    {
     "name": "stdout",
     "output_type": "stream",
     "text": [
      "분양정보 카테고리 목록\n",
      "아파트, 오피스텔, 아파트잔여, 아파트주택형별, 오피스텔주택형별, 아파트잔여주택형별\n"
     ]
    }
   ],
   "source": [
    "\n",
    "service_name = \"분양정보\"\n",
    "\n",
    "category_list = list(api.meta_dict[service_name].keys())\n",
    "it = iter(category_list)\n",
    "print(f\"{service_name} 카테고리 목록\")\n",
    "print(\", \".join(category_list))\n"
   ]
  },
  {
   "cell_type": "code",
   "execution_count": 5,
   "id": "f65280d9",
   "metadata": {},
   "outputs": [
    {
     "name": "stdout",
     "output_type": "stream",
     "text": [
      "카테고리명: 아파트잔여\n",
      "total_count: 1218, match_count: 1218, cumulative_count: 1218\n"
     ]
    },
    {
     "data": {
      "text/html": [
       "<div>\n",
       "<style scoped>\n",
       "    .dataframe tbody tr th:only-of-type {\n",
       "        vertical-align: middle;\n",
       "    }\n",
       "\n",
       "    .dataframe tbody tr th {\n",
       "        vertical-align: top;\n",
       "    }\n",
       "\n",
       "    .dataframe thead th {\n",
       "        text-align: right;\n",
       "    }\n",
       "</style>\n",
       "<table border=\"1\" class=\"dataframe\">\n",
       "  <thead>\n",
       "    <tr style=\"text-align: right;\">\n",
       "      <th></th>\n",
       "      <th>BSNS_MBY_NM</th>\n",
       "      <th>CNTRCT_CNCLS_BGNDE</th>\n",
       "      <th>CNTRCT_CNCLS_ENDDE</th>\n",
       "      <th>GNRL_RCEPT_BGNDE</th>\n",
       "      <th>GNRL_RCEPT_ENDDE</th>\n",
       "      <th>HMPG_ADRES</th>\n",
       "      <th>HOUSE_MANAGE_NO</th>\n",
       "      <th>HOUSE_NM</th>\n",
       "      <th>HOUSE_SECD</th>\n",
       "      <th>HOUSE_SECD_NM</th>\n",
       "      <th>...</th>\n",
       "      <th>PBLANC_URL</th>\n",
       "      <th>PRZWNER_PRESNATN_DE</th>\n",
       "      <th>RCRIT_PBLANC_DE</th>\n",
       "      <th>SPSPLY_RCEPT_BGNDE</th>\n",
       "      <th>SPSPLY_RCEPT_ENDDE</th>\n",
       "      <th>SUBSCRPT_AREA_CODE</th>\n",
       "      <th>SUBSCRPT_AREA_CODE_NM</th>\n",
       "      <th>SUBSCRPT_RCEPT_BGNDE</th>\n",
       "      <th>SUBSCRPT_RCEPT_ENDDE</th>\n",
       "      <th>TOT_SUPLY_HSHLDCO</th>\n",
       "    </tr>\n",
       "  </thead>\n",
       "  <tbody>\n",
       "    <tr>\n",
       "      <th>1213</th>\n",
       "      <td>(주)새솔건설</td>\n",
       "      <td>2020-05-12</td>\n",
       "      <td>2020-05-12</td>\n",
       "      <td>None</td>\n",
       "      <td>None</td>\n",
       "      <td>http://www.wr-sclass.com/</td>\n",
       "      <td>2020910004</td>\n",
       "      <td>위례신도시 A3-10BL 중흥S-클래스</td>\n",
       "      <td>04</td>\n",
       "      <td>무순위</td>\n",
       "      <td>...</td>\n",
       "      <td>https://www.applyhome.co.kr/ai/aia/selectAPTRe...</td>\n",
       "      <td>2020-05-11</td>\n",
       "      <td>2020-04-29</td>\n",
       "      <td>None</td>\n",
       "      <td>None</td>\n",
       "      <td>None</td>\n",
       "      <td>경기,서울,인천</td>\n",
       "      <td>2020-05-04</td>\n",
       "      <td>2020-05-04</td>\n",
       "      <td>2</td>\n",
       "    </tr>\n",
       "    <tr>\n",
       "      <th>1214</th>\n",
       "      <td>수원113-12구역주택재개발정비사업조합</td>\n",
       "      <td>2020-05-12</td>\n",
       "      <td>2020-05-12</td>\n",
       "      <td>None</td>\n",
       "      <td>None</td>\n",
       "      <td>https://suwon.ssyapt.com</td>\n",
       "      <td>2020910003</td>\n",
       "      <td>쌍용 더 플래티넘 오목천역</td>\n",
       "      <td>04</td>\n",
       "      <td>무순위</td>\n",
       "      <td>...</td>\n",
       "      <td>https://www.applyhome.co.kr/ai/aia/selectAPTRe...</td>\n",
       "      <td>2020-05-11</td>\n",
       "      <td>2020-04-27</td>\n",
       "      <td>None</td>\n",
       "      <td>None</td>\n",
       "      <td>410</td>\n",
       "      <td>경기</td>\n",
       "      <td>2020-05-04</td>\n",
       "      <td>2020-05-04</td>\n",
       "      <td>21</td>\n",
       "    </tr>\n",
       "    <tr>\n",
       "      <th>1215</th>\n",
       "      <td>롯데건설(주)</td>\n",
       "      <td>2020-07-23</td>\n",
       "      <td>2020-07-29</td>\n",
       "      <td>None</td>\n",
       "      <td>None</td>\n",
       "      <td>http://www.lottecastle.co.kr</td>\n",
       "      <td>2020920001</td>\n",
       "      <td>의정부 롯데캐슬 골드포레</td>\n",
       "      <td>04</td>\n",
       "      <td>무순위</td>\n",
       "      <td>...</td>\n",
       "      <td>https://www.applyhome.co.kr/ai/aia/selectAPTRe...</td>\n",
       "      <td>2020-07-22</td>\n",
       "      <td>2020-04-24</td>\n",
       "      <td>None</td>\n",
       "      <td>None</td>\n",
       "      <td>None</td>\n",
       "      <td>경기,서울,인천</td>\n",
       "      <td>2020-05-04</td>\n",
       "      <td>2020-05-04</td>\n",
       "      <td>326</td>\n",
       "    </tr>\n",
       "    <tr>\n",
       "      <th>1216</th>\n",
       "      <td>(주)무궁화신탁</td>\n",
       "      <td>2020-03-09</td>\n",
       "      <td>2020-03-10</td>\n",
       "      <td>None</td>\n",
       "      <td>None</td>\n",
       "      <td>https://www.naver.com/enrhrd</td>\n",
       "      <td>2020910002</td>\n",
       "      <td>서초동　지에스타워　주상복합　（서울）</td>\n",
       "      <td>04</td>\n",
       "      <td>무순위</td>\n",
       "      <td>...</td>\n",
       "      <td>https://www.applyhome.co.kr/ai/aia/selectAPTRe...</td>\n",
       "      <td>2020-03-06</td>\n",
       "      <td>2020-02-25</td>\n",
       "      <td>None</td>\n",
       "      <td>None</td>\n",
       "      <td>None</td>\n",
       "      <td>경기,서울,인천</td>\n",
       "      <td>2020-03-02</td>\n",
       "      <td>2020-03-02</td>\n",
       "      <td>45</td>\n",
       "    </tr>\n",
       "    <tr>\n",
       "      <th>1217</th>\n",
       "      <td>강서크라운팰리스</td>\n",
       "      <td>2020-02-18</td>\n",
       "      <td>2020-02-19</td>\n",
       "      <td>None</td>\n",
       "      <td>None</td>\n",
       "      <td>None</td>\n",
       "      <td>2020910001</td>\n",
       "      <td>강서　크라운팰리스（서울）</td>\n",
       "      <td>04</td>\n",
       "      <td>무순위</td>\n",
       "      <td>...</td>\n",
       "      <td>https://www.applyhome.co.kr/ai/aia/selectAPTRe...</td>\n",
       "      <td>2020-02-17</td>\n",
       "      <td>2020-02-06</td>\n",
       "      <td>None</td>\n",
       "      <td>None</td>\n",
       "      <td>None</td>\n",
       "      <td>서울, 경기 인천</td>\n",
       "      <td>2020-02-11</td>\n",
       "      <td>2020-02-11</td>\n",
       "      <td>50</td>\n",
       "    </tr>\n",
       "  </tbody>\n",
       "</table>\n",
       "<p>5 rows × 26 columns</p>\n",
       "</div>"
      ],
      "text/plain": [
       "                BSNS_MBY_NM CNTRCT_CNCLS_BGNDE CNTRCT_CNCLS_ENDDE  \\\n",
       "1213                (주)새솔건설         2020-05-12         2020-05-12   \n",
       "1214  수원113-12구역주택재개발정비사업조합         2020-05-12         2020-05-12   \n",
       "1215                롯데건설(주)         2020-07-23         2020-07-29   \n",
       "1216               (주)무궁화신탁         2020-03-09         2020-03-10   \n",
       "1217               강서크라운팰리스         2020-02-18         2020-02-19   \n",
       "\n",
       "     GNRL_RCEPT_BGNDE GNRL_RCEPT_ENDDE                    HMPG_ADRES  \\\n",
       "1213             None             None     http://www.wr-sclass.com/   \n",
       "1214             None             None      https://suwon.ssyapt.com   \n",
       "1215             None             None  http://www.lottecastle.co.kr   \n",
       "1216             None             None  https://www.naver.com/enrhrd   \n",
       "1217             None             None                          None   \n",
       "\n",
       "     HOUSE_MANAGE_NO               HOUSE_NM HOUSE_SECD HOUSE_SECD_NM  ...  \\\n",
       "1213      2020910004  위례신도시 A3-10BL 중흥S-클래스         04           무순위  ...   \n",
       "1214      2020910003         쌍용 더 플래티넘 오목천역         04           무순위  ...   \n",
       "1215      2020920001          의정부 롯데캐슬 골드포레         04           무순위  ...   \n",
       "1216      2020910002    서초동　지에스타워　주상복합　（서울）         04           무순위  ...   \n",
       "1217      2020910001          강서　크라운팰리스（서울）         04           무순위  ...   \n",
       "\n",
       "                                             PBLANC_URL PRZWNER_PRESNATN_DE  \\\n",
       "1213  https://www.applyhome.co.kr/ai/aia/selectAPTRe...          2020-05-11   \n",
       "1214  https://www.applyhome.co.kr/ai/aia/selectAPTRe...          2020-05-11   \n",
       "1215  https://www.applyhome.co.kr/ai/aia/selectAPTRe...          2020-07-22   \n",
       "1216  https://www.applyhome.co.kr/ai/aia/selectAPTRe...          2020-03-06   \n",
       "1217  https://www.applyhome.co.kr/ai/aia/selectAPTRe...          2020-02-17   \n",
       "\n",
       "     RCRIT_PBLANC_DE SPSPLY_RCEPT_BGNDE SPSPLY_RCEPT_ENDDE SUBSCRPT_AREA_CODE  \\\n",
       "1213      2020-04-29               None               None               None   \n",
       "1214      2020-04-27               None               None                410   \n",
       "1215      2020-04-24               None               None               None   \n",
       "1216      2020-02-25               None               None               None   \n",
       "1217      2020-02-06               None               None               None   \n",
       "\n",
       "     SUBSCRPT_AREA_CODE_NM SUBSCRPT_RCEPT_BGNDE SUBSCRPT_RCEPT_ENDDE  \\\n",
       "1213              경기,서울,인천           2020-05-04           2020-05-04   \n",
       "1214                    경기           2020-05-04           2020-05-04   \n",
       "1215              경기,서울,인천           2020-05-04           2020-05-04   \n",
       "1216              경기,서울,인천           2020-03-02           2020-03-02   \n",
       "1217             서울, 경기 인천           2020-02-11           2020-02-11   \n",
       "\n",
       "     TOT_SUPLY_HSHLDCO  \n",
       "1213                 2  \n",
       "1214                21  \n",
       "1215               326  \n",
       "1216                45  \n",
       "1217                50  \n",
       "\n",
       "[5 rows x 26 columns]"
      ]
     },
     "execution_count": 5,
     "metadata": {},
     "output_type": "execute_result"
    }
   ],
   "source": [
    "category_name = next(it)\n",
    "print(f\"카테고리명: {category_name}\")\n",
    "\n",
    "df = api.get_data(\n",
    "    service_name, \n",
    "    category_name,\n",
    "    verbose=True,\n",
    "    )\n",
    "df.tail()"
   ]
  },
  {
   "cell_type": "markdown",
   "id": "a8ed1f11",
   "metadata": {},
   "source": [
    "### 청약홈 청약접수 경쟁률 조회 서비스\n"
   ]
  },
  {
   "cell_type": "code",
   "execution_count": 6,
   "id": "aa000e41",
   "metadata": {},
   "outputs": [
    {
     "name": "stdout",
     "output_type": "stream",
     "text": [
      "청약경쟁률 카테고리 목록\n",
      "아파트, 오피스텔, 임대, 취소후재공급, 잔여\n"
     ]
    }
   ],
   "source": [
    "service_name = \"청약경쟁률\"\n",
    "\n",
    "category_list = list(api.meta_dict[service_name].keys())\n",
    "it = iter(category_list)\n",
    "print(f\"{service_name} 카테고리 목록\")\n",
    "print(\", \".join(category_list))"
   ]
  },
  {
   "cell_type": "code",
   "execution_count": 8,
   "id": "7674970a",
   "metadata": {},
   "outputs": [
    {
     "name": "stdout",
     "output_type": "stream",
     "text": [
      "카테고리명: 오피스텔\n",
      "total_count: 2209, match_count: 2209, cumulative_count: 2209\n"
     ]
    },
    {
     "data": {
      "text/html": [
       "<div>\n",
       "<style scoped>\n",
       "    .dataframe tbody tr th:only-of-type {\n",
       "        vertical-align: middle;\n",
       "    }\n",
       "\n",
       "    .dataframe tbody tr th {\n",
       "        vertical-align: top;\n",
       "    }\n",
       "\n",
       "    .dataframe thead th {\n",
       "        text-align: right;\n",
       "    }\n",
       "</style>\n",
       "<table border=\"1\" class=\"dataframe\">\n",
       "  <thead>\n",
       "    <tr style=\"text-align: right;\">\n",
       "      <th></th>\n",
       "      <th>CMPET_RATE</th>\n",
       "      <th>HOUSE_MANAGE_NO</th>\n",
       "      <th>HOUSE_TY</th>\n",
       "      <th>MODEL_NO</th>\n",
       "      <th>PBLANC_NO</th>\n",
       "      <th>REQ_CNT</th>\n",
       "      <th>RESIDNT_PRIOR_AT</th>\n",
       "      <th>RESIDNT_PRIOR_SENM</th>\n",
       "      <th>SUPLY_HSHLDCO</th>\n",
       "    </tr>\n",
       "  </thead>\n",
       "  <tbody>\n",
       "    <tr>\n",
       "      <th>2204</th>\n",
       "      <td>(△23)</td>\n",
       "      <td>2020950003</td>\n",
       "      <td>22A</td>\n",
       "      <td>03</td>\n",
       "      <td>2020950003</td>\n",
       "      <td>0</td>\n",
       "      <td>N</td>\n",
       "      <td>전체</td>\n",
       "      <td>23</td>\n",
       "    </tr>\n",
       "    <tr>\n",
       "      <th>2205</th>\n",
       "      <td>(△5)</td>\n",
       "      <td>2020950003</td>\n",
       "      <td>22A-1</td>\n",
       "      <td>04</td>\n",
       "      <td>2020950003</td>\n",
       "      <td>0</td>\n",
       "      <td>N</td>\n",
       "      <td>전체</td>\n",
       "      <td>5</td>\n",
       "    </tr>\n",
       "    <tr>\n",
       "      <th>2206</th>\n",
       "      <td>2.00</td>\n",
       "      <td>2020950003</td>\n",
       "      <td>22A-2</td>\n",
       "      <td>05</td>\n",
       "      <td>2020950003</td>\n",
       "      <td>2</td>\n",
       "      <td>N</td>\n",
       "      <td>전체</td>\n",
       "      <td>1</td>\n",
       "    </tr>\n",
       "    <tr>\n",
       "      <th>2207</th>\n",
       "      <td>(△8)</td>\n",
       "      <td>2020950003</td>\n",
       "      <td>22S</td>\n",
       "      <td>06</td>\n",
       "      <td>2020950003</td>\n",
       "      <td>0</td>\n",
       "      <td>N</td>\n",
       "      <td>전체</td>\n",
       "      <td>8</td>\n",
       "    </tr>\n",
       "    <tr>\n",
       "      <th>2208</th>\n",
       "      <td>(△21)</td>\n",
       "      <td>2020950003</td>\n",
       "      <td>22T</td>\n",
       "      <td>07</td>\n",
       "      <td>2020950003</td>\n",
       "      <td>1</td>\n",
       "      <td>N</td>\n",
       "      <td>전체</td>\n",
       "      <td>22</td>\n",
       "    </tr>\n",
       "  </tbody>\n",
       "</table>\n",
       "</div>"
      ],
      "text/plain": [
       "     CMPET_RATE HOUSE_MANAGE_NO HOUSE_TY MODEL_NO   PBLANC_NO REQ_CNT  \\\n",
       "2204      (△23)      2020950003      22A       03  2020950003       0   \n",
       "2205       (△5)      2020950003    22A-1       04  2020950003       0   \n",
       "2206       2.00      2020950003    22A-2       05  2020950003       2   \n",
       "2207       (△8)      2020950003      22S       06  2020950003       0   \n",
       "2208      (△21)      2020950003      22T       07  2020950003       1   \n",
       "\n",
       "     RESIDNT_PRIOR_AT RESIDNT_PRIOR_SENM  SUPLY_HSHLDCO  \n",
       "2204                N                 전체             23  \n",
       "2205                N                 전체              5  \n",
       "2206                N                 전체              1  \n",
       "2207                N                 전체              8  \n",
       "2208                N                 전체             22  "
      ]
     },
     "execution_count": 8,
     "metadata": {},
     "output_type": "execute_result"
    }
   ],
   "source": [
    "category_name = next(it)\n",
    "print(f\"카테고리명: {category_name}\")\n",
    "\n",
    "df = api.get_data(\n",
    "    service_name, \n",
    "    category_name,\n",
    "    verbose=True,\n",
    "    )\n",
    "df.tail()"
   ]
  },
  {
   "cell_type": "markdown",
   "id": "af6c2825",
   "metadata": {},
   "source": [
    "### 청약홈 청약 신청·당첨자 정보 조회 서비스"
   ]
  },
  {
   "cell_type": "code",
   "execution_count": 9,
   "id": "67a8c7f6",
   "metadata": {},
   "outputs": [
    {
     "name": "stdout",
     "output_type": "stream",
     "text": [
      "청약당첨정보 카테고리 목록\n",
      "지역별신청자, 연령별신청자, 지역별당첨자, 연령별당첨자, 지역별경쟁률, 지역별가점제당첨자\n"
     ]
    }
   ],
   "source": [
    "service_name = \"청약당첨정보\"\n",
    "\n",
    "category_list = list(api.meta_dict[service_name].keys())\n",
    "it = iter(category_list)\n",
    "print(f\"{service_name} 카테고리 목록\")\n",
    "print(\", \".join(category_list))"
   ]
  },
  {
   "cell_type": "code",
   "execution_count": 13,
   "id": "ab1685d9",
   "metadata": {},
   "outputs": [
    {
     "name": "stdout",
     "output_type": "stream",
     "text": [
      "카테고리명: 연령별당첨자\n",
      "'data'\n"
     ]
    }
   ],
   "source": [
    "category_name = next(it)\n",
    "print(f\"카테고리명: {category_name}\")\n",
    "\n",
    "df = api.get_data(\n",
    "    service_name, \n",
    "    category_name,\n",
    "    verbose=True,\n",
    "    )\n",
    "df"
   ]
  },
  {
   "cell_type": "markdown",
   "id": "417856df",
   "metadata": {},
   "source": [
    "### 공동주택 단지 식별정보 조회 서비스"
   ]
  },
  {
   "cell_type": "code",
   "execution_count": 14,
   "id": "8b3e8427",
   "metadata": {},
   "outputs": [
    {
     "name": "stdout",
     "output_type": "stream",
     "text": [
      "공동주택단지정보 카테고리 목록\n",
      "기본, 동, 단지명\n"
     ]
    }
   ],
   "source": [
    "service_name = \"공동주택단지정보\"\n",
    "\n",
    "category_list = list(api.meta_dict[service_name].keys())\n",
    "it = iter(category_list)\n",
    "print(f\"{service_name} 카테고리 목록\")\n",
    "print(\", \".join(category_list))"
   ]
  },
  {
   "cell_type": "code",
   "execution_count": 15,
   "id": "4075ea36",
   "metadata": {},
   "outputs": [
    {
     "name": "stdout",
     "output_type": "stream",
     "text": [
      "카테고리명: 기본\n",
      "total_count: 307563, match_count: 307563, cumulative_count: 10000\n",
      "total_count: 307563, match_count: 307563, cumulative_count: 20000\n",
      "total_count: 307563, match_count: 307563, cumulative_count: 30000\n",
      "total_count: 307563, match_count: 307563, cumulative_count: 40000\n",
      "total_count: 307563, match_count: 307563, cumulative_count: 50000\n",
      "total_count: 307563, match_count: 307563, cumulative_count: 60000\n",
      "total_count: 307563, match_count: 307563, cumulative_count: 70000\n",
      "total_count: 307563, match_count: 307563, cumulative_count: 80000\n",
      "total_count: 307563, match_count: 307563, cumulative_count: 90000\n",
      "total_count: 307563, match_count: 307563, cumulative_count: 100000\n",
      "total_count: 307563, match_count: 307563, cumulative_count: 110000\n",
      "total_count: 307563, match_count: 307563, cumulative_count: 120000\n",
      "total_count: 307563, match_count: 307563, cumulative_count: 130000\n",
      "total_count: 307563, match_count: 307563, cumulative_count: 140000\n",
      "total_count: 307563, match_count: 307563, cumulative_count: 150000\n",
      "total_count: 307563, match_count: 307563, cumulative_count: 160000\n",
      "total_count: 307563, match_count: 307563, cumulative_count: 170000\n",
      "total_count: 307563, match_count: 307563, cumulative_count: 180000\n",
      "total_count: 307563, match_count: 307563, cumulative_count: 190000\n",
      "total_count: 307563, match_count: 307563, cumulative_count: 200000\n",
      "total_count: 307563, match_count: 307563, cumulative_count: 210000\n",
      "total_count: 307563, match_count: 307563, cumulative_count: 220000\n",
      "total_count: 307563, match_count: 307563, cumulative_count: 230000\n",
      "total_count: 307563, match_count: 307563, cumulative_count: 240000\n",
      "total_count: 307563, match_count: 307563, cumulative_count: 250000\n",
      "total_count: 307563, match_count: 307563, cumulative_count: 260000\n",
      "total_count: 307563, match_count: 307563, cumulative_count: 270000\n",
      "total_count: 307563, match_count: 307563, cumulative_count: 280000\n",
      "total_count: 307563, match_count: 307563, cumulative_count: 290000\n",
      "total_count: 307563, match_count: 307563, cumulative_count: 300000\n",
      "total_count: 307563, match_count: 307563, cumulative_count: 307563\n"
     ]
    },
    {
     "data": {
      "text/html": [
       "<div>\n",
       "<style scoped>\n",
       "    .dataframe tbody tr th:only-of-type {\n",
       "        vertical-align: middle;\n",
       "    }\n",
       "\n",
       "    .dataframe tbody tr th {\n",
       "        vertical-align: top;\n",
       "    }\n",
       "\n",
       "    .dataframe thead th {\n",
       "        text-align: right;\n",
       "    }\n",
       "</style>\n",
       "<table border=\"1\" class=\"dataframe\">\n",
       "  <thead>\n",
       "    <tr style=\"text-align: right;\">\n",
       "      <th></th>\n",
       "      <th>ADRES</th>\n",
       "      <th>COMPLEX_GB_CD</th>\n",
       "      <th>COMPLEX_NM1</th>\n",
       "      <th>COMPLEX_NM2</th>\n",
       "      <th>COMPLEX_NM3</th>\n",
       "      <th>COMPLEX_PK</th>\n",
       "      <th>DONG_CNT</th>\n",
       "      <th>PNU</th>\n",
       "      <th>UNIT_CNT</th>\n",
       "      <th>USEAPR_DT</th>\n",
       "    </tr>\n",
       "  </thead>\n",
       "  <tbody>\n",
       "    <tr>\n",
       "      <th>307562</th>\n",
       "      <td>전북특별자치도 익산시 모현동1가 393</td>\n",
       "      <td>3</td>\n",
       "      <td>크레모드(제6동)</td>\n",
       "      <td>None</td>\n",
       "      <td>None</td>\n",
       "      <td>52140320312247</td>\n",
       "      <td>1</td>\n",
       "      <td>5214011400103930000</td>\n",
       "      <td>2</td>\n",
       "      <td>20150116</td>\n",
       "    </tr>\n",
       "  </tbody>\n",
       "</table>\n",
       "</div>"
      ],
      "text/plain": [
       "                        ADRES COMPLEX_GB_CD COMPLEX_NM1 COMPLEX_NM2  \\\n",
       "307562  전북특별자치도 익산시 모현동1가 393             3   크레모드(제6동)        None   \n",
       "\n",
       "       COMPLEX_NM3      COMPLEX_PK  DONG_CNT                  PNU  UNIT_CNT  \\\n",
       "307562        None  52140320312247         1  5214011400103930000         2   \n",
       "\n",
       "       USEAPR_DT  \n",
       "307562  20150116  "
      ]
     },
     "execution_count": 15,
     "metadata": {},
     "output_type": "execute_result"
    }
   ],
   "source": [
    "category_name = next(it)\n",
    "print(f\"카테고리명: {category_name}\")\n",
    "\n",
    "df = api.get_data(\n",
    "    service_name, \n",
    "    category_name,\n",
    "    verbose=True,\n",
    "    )\n",
    "df.tail(1)"
   ]
  },
  {
   "cell_type": "markdown",
   "id": "bb40c604",
   "metadata": {},
   "source": [
    "### 공동주택 실거래가격지수 통계 조회 서비스"
   ]
  },
  {
   "cell_type": "code",
   "execution_count": 16,
   "id": "77ddc92e",
   "metadata": {},
   "outputs": [
    {
     "name": "stdout",
     "output_type": "stream",
     "text": [
      "공동주택실거래가격지수 카테고리 목록\n",
      "지역별, 규모별\n"
     ]
    }
   ],
   "source": [
    "service_name = \"공동주택실거래가격지수\"\n",
    "\n",
    "category_list = list(api.meta_dict[service_name].keys())\n",
    "it = iter(category_list)\n",
    "print(f\"{service_name} 카테고리 목록\")\n",
    "print(\", \".join(category_list))"
   ]
  },
  {
   "cell_type": "code",
   "execution_count": 18,
   "id": "7cac976a",
   "metadata": {},
   "outputs": [
    {
     "name": "stdout",
     "output_type": "stream",
     "text": [
      "카테고리명: 규모별\n",
      "'data'\n"
     ]
    }
   ],
   "source": [
    "category_name = next(it)\n",
    "print(f\"카테고리명: {category_name}\")\n",
    "\n",
    "df = api.get_data(\n",
    "    service_name, \n",
    "    category_name,\n",
    "    verbose=True,\n",
    "    )\n",
    "df"
   ]
  },
  {
   "cell_type": "markdown",
   "id": "d1e27e17",
   "metadata": {},
   "source": [
    "### 전국주택가격동향조사 통계 조회 서비스"
   ]
  },
  {
   "cell_type": "code",
   "execution_count": 19,
   "id": "c47cf9c5",
   "metadata": {},
   "outputs": [
    {
     "name": "stdout",
     "output_type": "stream",
     "text": [
      "주택 카테고리 목록\n",
      "지역별, 5분위배율, 전세가격비율, 계절조정, 연령별, 규모별, 매매수급, 매매거래, 전세수급, 전세가격, 가격별\n"
     ]
    }
   ],
   "source": [
    "service_name = \"주택\"\n",
    "\n",
    "category_list = list(api.meta_dict[service_name].keys())\n",
    "it = iter(category_list)\n",
    "print(f\"{service_name} 카테고리 목록\")\n",
    "print(\", \".join(category_list))"
   ]
  },
  {
   "cell_type": "code",
   "execution_count": 21,
   "id": "1f760510",
   "metadata": {},
   "outputs": [
    {
     "name": "stdout",
     "output_type": "stream",
     "text": [
      "카테고리명: 5분위배율\n",
      "'data'\n"
     ]
    }
   ],
   "source": [
    "category_name = next(it)\n",
    "print(f\"카테고리명: {category_name}\")\n",
    "\n",
    "df = api.get_data(\n",
    "    service_name, \n",
    "    category_name,\n",
    "    verbose=True,\n",
    "    )\n",
    "df"
   ]
  },
  {
   "cell_type": "markdown",
   "id": "fb6760bd",
   "metadata": {},
   "source": [
    "### 주간아파트동향 조회 서비스"
   ]
  },
  {
   "cell_type": "code",
   "execution_count": 22,
   "id": "fabe15ab",
   "metadata": {},
   "outputs": [
    {
     "name": "stdout",
     "output_type": "stream",
     "text": [
      "주간아파트 카테고리 목록\n",
      "연령별거래유형별, 규모별거래유형별, 전세수급, 매매수급, 지역별거래유형별\n"
     ]
    }
   ],
   "source": [
    "service_name = \"주간아파트\"\n",
    "\n",
    "category_list = list(api.meta_dict[service_name].keys())\n",
    "it = iter(category_list)\n",
    "print(f\"{service_name} 카테고리 목록\")\n",
    "print(\", \".join(category_list))"
   ]
  },
  {
   "cell_type": "code",
   "execution_count": 24,
   "id": "e248a2b8",
   "metadata": {},
   "outputs": [
    {
     "name": "stdout",
     "output_type": "stream",
     "text": [
      "카테고리명: 규모별거래유형별\n",
      "'data'\n"
     ]
    }
   ],
   "source": [
    "category_name = next(it)\n",
    "print(f\"카테고리명: {category_name}\")\n",
    "\n",
    "df = api.get_data(\n",
    "    service_name, \n",
    "    category_name,\n",
    "    verbose=True,\n",
    "    )\n",
    "df"
   ]
  },
  {
   "cell_type": "code",
   "execution_count": null,
   "id": "66c497fb",
   "metadata": {},
   "outputs": [],
   "source": []
  }
 ],
 "metadata": {
  "kernelspec": {
   "display_name": ".venv",
   "language": "python",
   "name": "python3"
  },
  "language_info": {
   "codemirror_mode": {
    "name": "ipython",
    "version": 3
   },
   "file_extension": ".py",
   "mimetype": "text/x-python",
   "name": "python",
   "nbconvert_exporter": "python",
   "pygments_lexer": "ipython3",
   "version": "3.12.10"
  }
 },
 "nbformat": 4,
 "nbformat_minor": 5
}
